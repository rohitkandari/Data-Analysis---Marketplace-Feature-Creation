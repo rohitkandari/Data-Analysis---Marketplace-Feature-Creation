{
  "nbformat": 4,
  "nbformat_minor": 0,
  "metadata": {
    "colab": {
      "name": "job a thon.ipynb",
      "provenance": [],
      "collapsed_sections": []
    },
    "kernelspec": {
      "name": "python3",
      "display_name": "Python 3"
    },
    "language_info": {
      "name": "python"
    }
  },
  "cells": [
    {
      "cell_type": "markdown",
      "metadata": {
        "id": "qrrColFEg19b"
      },
      "source": [
        "**Importing Packages & Loading Data**"
      ]
    },
    {
      "cell_type": "code",
      "metadata": {
        "id": "O7pXaZteAYCd"
      },
      "source": [
        "import pandas as pd\n",
        "import numpy as np\n",
        "import seaborn as sns"
      ],
      "execution_count": 1,
      "outputs": []
    },
    {
      "cell_type": "code",
      "metadata": {
        "id": "iwxafOj2CNLH"
      },
      "source": [
        "visit = pd.read_csv('/content/VisitorLogsData.csv')\n",
        "user = pd.read_csv('/content/userTable.csv')"
      ],
      "execution_count": 2,
      "outputs": []
    },
    {
      "cell_type": "markdown",
      "metadata": {
        "id": "YnoyehPhc4l3"
      },
      "source": [
        " '**Dropping NA values from UserID**'"
      ]
    },
    {
      "cell_type": "code",
      "metadata": {
        "id": "a0mLfacFCruS"
      },
      "source": [
        "df = visit.copy()\n",
        "df.drop(['Browser', 'City', 'Country'], axis = 1, inplace =True) # these features aren't important\n",
        "df.dropna(subset=['UserID'], inplace=True)\n",
        "#df.sort_values(['UserID', 'VisitDateTime'], inplace=True)\n",
        "\n",
        "#df.reset_index(inplace=True)"
      ],
      "execution_count": 3,
      "outputs": []
    },
    {
      "cell_type": "markdown",
      "metadata": {
        "id": "GGHYPOHvdF07"
      },
      "source": [
        " **Converting object type features to Upper case**"
      ]
    },
    {
      "cell_type": "code",
      "metadata": {
        "id": "j9iAfsgJmHPb"
      },
      "source": [
        "df['ProductID']= df['ProductID'].str.upper()\n",
        "df['OS'] = df['OS'].str.upper()\n",
        "df['Activity'] = df['Activity'].str.upper()"
      ],
      "execution_count": 4,
      "outputs": []
    },
    {
      "cell_type": "markdown",
      "metadata": {
        "id": "6RPlkDI7fJC_"
      },
      "source": [
        "**Converting into single datetime format. i.e Unix value to standard datetime format**"
      ]
    },
    {
      "cell_type": "code",
      "metadata": {
        "id": "GyR_TCTmZaAw"
      },
      "source": [
        "df1 = df.copy()"
      ],
      "execution_count": 5,
      "outputs": []
    },
    {
      "cell_type": "code",
      "metadata": {
        "id": "up-1iA9hfhuv",
        "colab": {
          "base_uri": "https://localhost:8080/"
        },
        "outputId": "2aab7c96-e8a9-4758-9b69-4a78c60b98a9"
      },
      "source": [
        "s,d = df1.shape\n",
        "print(s)"
      ],
      "execution_count": 6,
      "outputs": [
        {
          "output_type": "stream",
          "text": [
            "323789\n"
          ],
          "name": "stdout"
        }
      ]
    },
    {
      "cell_type": "code",
      "metadata": {
        "id": "hSqoh64kfrN6"
      },
      "source": [
        "df1['VisitDateTime'] = df1['VisitDateTime'].replace(np.nan,'NAN')"
      ],
      "execution_count": 7,
      "outputs": []
    },
    {
      "cell_type": "code",
      "metadata": {
        "id": "frTPB2Y8hRKe"
      },
      "source": [
        "df1.reset_index(inplace=True)"
      ],
      "execution_count": 8,
      "outputs": []
    },
    {
      "cell_type": "code",
      "metadata": {
        "id": "wMLXjVAboXev"
      },
      "source": [
        "from numpy import nan\n",
        "Time = []\n",
        "for i in range(0, s):\n",
        "  if ' ' in df1['VisitDateTime'][i]:\n",
        "    Time.append(pd.to_datetime(df1['VisitDateTime'][i]))\n",
        "  elif df1['VisitDateTime'][i] == 'NAN':\n",
        "    Time.append(nan)\n",
        "    continue\n",
        "  else:\n",
        "    Time.append(pd.to_datetime(int(df1['VisitDateTime'][i])))\n",
        "    #print('else')"
      ],
      "execution_count": 9,
      "outputs": []
    },
    {
      "cell_type": "code",
      "metadata": {
        "id": "MXyHW4A0eN97"
      },
      "source": [
        "df1['Time'] = Time"
      ],
      "execution_count": 10,
      "outputs": []
    },
    {
      "cell_type": "code",
      "metadata": {
        "colab": {
          "base_uri": "https://localhost:8080/",
          "height": 204
        },
        "id": "6tyBGr8s6CyL",
        "outputId": "4d846fa5-1650-4263-b65e-6f58cf8c9736"
      },
      "source": [
        "df1.head(5)"
      ],
      "execution_count": 11,
      "outputs": [
        {
          "output_type": "execute_result",
          "data": {
            "text/html": [
              "<div>\n",
              "<style scoped>\n",
              "    .dataframe tbody tr th:only-of-type {\n",
              "        vertical-align: middle;\n",
              "    }\n",
              "\n",
              "    .dataframe tbody tr th {\n",
              "        vertical-align: top;\n",
              "    }\n",
              "\n",
              "    .dataframe thead th {\n",
              "        text-align: right;\n",
              "    }\n",
              "</style>\n",
              "<table border=\"1\" class=\"dataframe\">\n",
              "  <thead>\n",
              "    <tr style=\"text-align: right;\">\n",
              "      <th></th>\n",
              "      <th>index</th>\n",
              "      <th>webClientID</th>\n",
              "      <th>VisitDateTime</th>\n",
              "      <th>ProductID</th>\n",
              "      <th>UserID</th>\n",
              "      <th>Activity</th>\n",
              "      <th>OS</th>\n",
              "      <th>Time</th>\n",
              "    </tr>\n",
              "  </thead>\n",
              "  <tbody>\n",
              "    <tr>\n",
              "      <th>0</th>\n",
              "      <td>14</td>\n",
              "      <td>WI100000112772</td>\n",
              "      <td>1526366895249000000</td>\n",
              "      <td>PR100017</td>\n",
              "      <td>U106593</td>\n",
              "      <td>CLICK</td>\n",
              "      <td>ANDROID</td>\n",
              "      <td>2018-05-15 06:48:15.249</td>\n",
              "    </tr>\n",
              "    <tr>\n",
              "      <th>1</th>\n",
              "      <td>21</td>\n",
              "      <td>WI1000009977</td>\n",
              "      <td>1527058921790000000</td>\n",
              "      <td>PR101008</td>\n",
              "      <td>U108297</td>\n",
              "      <td>NaN</td>\n",
              "      <td>ANDROID</td>\n",
              "      <td>2018-05-23 07:02:01.790</td>\n",
              "    </tr>\n",
              "    <tr>\n",
              "      <th>2</th>\n",
              "      <td>23</td>\n",
              "      <td>WI100000223826</td>\n",
              "      <td>2018-05-10 06:28:53.391</td>\n",
              "      <td>PR100241</td>\n",
              "      <td>U132443</td>\n",
              "      <td>NaN</td>\n",
              "      <td>WINDOWS</td>\n",
              "      <td>2018-05-10 06:28:53.391</td>\n",
              "    </tr>\n",
              "    <tr>\n",
              "      <th>3</th>\n",
              "      <td>24</td>\n",
              "      <td>WI10000021998</td>\n",
              "      <td>2018-05-08 12:40:02.153</td>\n",
              "      <td>PR100495</td>\n",
              "      <td>U134616</td>\n",
              "      <td>CLICK</td>\n",
              "      <td>WINDOWS</td>\n",
              "      <td>2018-05-08 12:40:02.153</td>\n",
              "    </tr>\n",
              "    <tr>\n",
              "      <th>4</th>\n",
              "      <td>33</td>\n",
              "      <td>WI10000036281</td>\n",
              "      <td>2018-05-11 15:35:43.689</td>\n",
              "      <td>PR100363</td>\n",
              "      <td>U130784</td>\n",
              "      <td>CLICK</td>\n",
              "      <td>CHROME OS</td>\n",
              "      <td>2018-05-11 15:35:43.689</td>\n",
              "    </tr>\n",
              "  </tbody>\n",
              "</table>\n",
              "</div>"
            ],
            "text/plain": [
              "   index     webClientID  ...         OS                    Time\n",
              "0     14  WI100000112772  ...    ANDROID 2018-05-15 06:48:15.249\n",
              "1     21    WI1000009977  ...    ANDROID 2018-05-23 07:02:01.790\n",
              "2     23  WI100000223826  ...    WINDOWS 2018-05-10 06:28:53.391\n",
              "3     24   WI10000021998  ...    WINDOWS 2018-05-08 12:40:02.153\n",
              "4     33   WI10000036281  ...  CHROME OS 2018-05-11 15:35:43.689\n",
              "\n",
              "[5 rows x 8 columns]"
            ]
          },
          "metadata": {
            "tags": []
          },
          "execution_count": 11
        }
      ]
    },
    {
      "cell_type": "markdown",
      "metadata": {
        "id": "T-frvoo1gtLi"
      },
      "source": [
        "**Calculating last 7 day visit, by the User**"
      ]
    },
    {
      "cell_type": "code",
      "metadata": {
        "id": "4MbDkcRkhrHX"
      },
      "source": [
        "df1.sort_values(['UserID', 'VisitDateTime', 'webClientID'], inplace= True)\n",
        "df1.reset_index(inplace=True)\n",
        "df1.drop(['level_0', 'index'], inplace=True, axis = 1)\n",
        "df1['Time'] = np.where(df1['Time'].notnull(), df1['Time'], df1['Time'].ffill().bfill())\n",
        "day7 = max(df1['Time']) - pd.to_timedelta(7, unit = 'd') \n",
        "no_of_visit_in_7 = df1[df1['Time']>=day7]\n",
        "visited_in_7_days = no_of_visit_in_7.groupby('UserID')['Time'].nunique()"
      ],
      "execution_count": 12,
      "outputs": []
    },
    {
      "cell_type": "markdown",
      "metadata": {
        "id": "AT7K8F5b4n-e"
      },
      "source": [
        "**Number of Product viewed in last 15 days**"
      ]
    },
    {
      "cell_type": "code",
      "metadata": {
        "id": "ru7kc0vI4eMd"
      },
      "source": [
        "day15 = max(df1['Time']) - pd.to_timedelta(15, unit = 'd')\n",
        "no_of_visit_in_15 = df1[df1['Time']>=day15] \n",
        "no_of_visit_in_15 = pd.DataFrame(no_of_visit_in_15.groupby('UserID')['ProductID'].count())\n",
        "no_of_visit_in_15.rename(columns={'ProductID': 'no_of_visit_in_15 days'}, inplace=True)"
      ],
      "execution_count": 13,
      "outputs": []
    },
    {
      "cell_type": "markdown",
      "metadata": {
        "id": "PuEKXTOO6iOO"
      },
      "source": [
        "**Calculating Vintage from Signup Date**"
      ]
    },
    {
      "cell_type": "code",
      "metadata": {
        "id": "6hZkvDE4YwgL"
      },
      "source": [
        "user['Signup Date'] = user['Signup Date'].apply(lambda x : x.split(' ')[0])\n",
        "user['Signup Date'] = pd.to_datetime(user['Signup Date'])\n",
        "max_time = max(df1['Time'])\n",
        "user['vin'] = user['Signup Date'].apply(lambda x : max_time - x)\n",
        "user['vin'] = user['vin'].apply(lambda x : x.days) \n",
        "vintage_in_days = user[['UserID', 'vin']]"
      ],
      "execution_count": 14,
      "outputs": []
    },
    {
      "cell_type": "markdown",
      "metadata": {
        "id": "9vebg8jf_gAL"
      },
      "source": [
        "**Most used product in last 15 days. If multiple product have similar pageload then choose the latest one. if no product viewed in 15 days put Product101**"
      ]
    },
    {
      "cell_type": "code",
      "metadata": {
        "id": "zxG-3gyx8WdB",
        "colab": {
          "base_uri": "https://localhost:8080/"
        },
        "outputId": "d01bc719-aeb4-4b64-9afe-dda4372921c7"
      },
      "source": [
        "df1['day_t_f'] = df1['Time']>=day15\n",
        "a = df1[df1['day_t_f'] == True]\n",
        "b = df1[df1['day_t_f'] == False]\n",
        "b['ProductID'] = 'Product101'\n",
        "c = a.append(b)\n"
      ],
      "execution_count": 15,
      "outputs": [
        {
          "output_type": "stream",
          "text": [
            "/usr/local/lib/python3.7/dist-packages/ipykernel_launcher.py:4: SettingWithCopyWarning: \n",
            "A value is trying to be set on a copy of a slice from a DataFrame.\n",
            "Try using .loc[row_indexer,col_indexer] = value instead\n",
            "\n",
            "See the caveats in the documentation: https://pandas.pydata.org/pandas-docs/stable/user_guide/indexing.html#returning-a-view-versus-a-copy\n",
            "  after removing the cwd from sys.path.\n"
          ],
          "name": "stderr"
        }
      ]
    },
    {
      "cell_type": "code",
      "metadata": {
        "id": "fCRz1vuR2WPp"
      },
      "source": [
        "product_in_15_days = c.groupby('UserID')['ProductID'].\\\n",
        "                                              agg([('ProductID','value_counts')])\n",
        "l1 = len(product_in_15_days)\n",
        "for i in range(0,10):\n",
        "  u = pd.DataFrame(product_in_15_days.index.get_level_values(0))\n",
        "  p = pd.DataFrame(product_in_15_days.index.get_level_values(1))\n",
        "u['prod'] = p"
      ],
      "execution_count": 16,
      "outputs": []
    },
    {
      "cell_type": "markdown",
      "metadata": {
        "id": "M9ad1ataAWbk"
      },
      "source": [
        "**Most frequent OS used by User**"
      ]
    },
    {
      "cell_type": "code",
      "metadata": {
        "id": "1JTuAfjIsoEz"
      },
      "source": [
        "df1['OS'] = df1['OS'].ffill().bfill()\n",
        "most = df1.groupby(['UserID','OS'])['OS'].count()\n",
        "most_freq_os = pd.DataFrame(most.index.get_level_values(0))\n",
        "most_freq_os['OS'] = most.index.get_level_values(1)"
      ],
      "execution_count": 35,
      "outputs": []
    },
    {
      "cell_type": "markdown",
      "metadata": {
        "id": "06UfKjEDBsVC"
      },
      "source": [
        "**Pageload & Click count, in last 7 days, by the User**"
      ]
    },
    {
      "cell_type": "code",
      "metadata": {
        "id": "a2EZiyy1Bv7r",
        "colab": {
          "base_uri": "https://localhost:8080/"
        },
        "outputId": "60bf98d8-74dd-4425-d369-11937c4f6df4"
      },
      "source": [
        "page = df1[df1['Time']>= day7]\n",
        "page['fill_activity'] = np.where(page['Activity'].notnull(), page['Activity'], page['Activity'].ffill().bfill())\n",
        "page.drop(['fill_activity'], axis = 1, inplace=True)\n",
        "pageload_count = page[page['Activity']=='PAGELOAD'].groupby('UserID')['Activity'].count()\n",
        "click_count = page[page['Activity']=='CLICK'].groupby('UserID')['Activity'].count()"
      ],
      "execution_count": 36,
      "outputs": [
        {
          "output_type": "stream",
          "text": [
            "/usr/local/lib/python3.7/dist-packages/ipykernel_launcher.py:2: SettingWithCopyWarning: \n",
            "A value is trying to be set on a copy of a slice from a DataFrame.\n",
            "Try using .loc[row_indexer,col_indexer] = value instead\n",
            "\n",
            "See the caveats in the documentation: https://pandas.pydata.org/pandas-docs/stable/user_guide/indexing.html#returning-a-view-versus-a-copy\n",
            "  \n",
            "/usr/local/lib/python3.7/dist-packages/pandas/core/frame.py:4174: SettingWithCopyWarning: \n",
            "A value is trying to be set on a copy of a slice from a DataFrame\n",
            "\n",
            "See the caveats in the documentation: https://pandas.pydata.org/pandas-docs/stable/user_guide/indexing.html#returning-a-view-versus-a-copy\n",
            "  errors=errors,\n"
          ],
          "name": "stderr"
        }
      ]
    },
    {
      "cell_type": "markdown",
      "metadata": {
        "id": "ho60VmxDVyLn"
      },
      "source": [
        "**Joining all inputs**"
      ]
    },
    {
      "cell_type": "code",
      "metadata": {
        "id": "F-YKQ9-dVwdQ"
      },
      "source": [
        "df_join = user[['UserID']]\n",
        "final= df_join\\\n",
        "               .merge(visited_in_7_days, how= 'left', on= 'UserID')\\\n",
        "               .merge(no_of_visit_in_15, how= 'left', on= 'UserID')\\\n",
        "               .merge(vintage_in_days, how= 'left', on= 'UserID')\\\n",
        "               .merge(u, how= 'left', on= 'UserID')\\\n",
        "               .merge(most_freq_os, how= 'left', on= 'UserID')\\\n",
        "               .merge(pageload_count, how= 'left', on= 'UserID')\\\n",
        "               .merge(click_count, how= 'left', on= 'UserID')"
      ],
      "execution_count": 37,
      "outputs": []
    },
    {
      "cell_type": "code",
      "metadata": {
        "id": "PtbSdhP2rFro"
      },
      "source": [
        "final.rename(columns = {'Time':'no_of_visit_in_7days', 'vin':'Vintage', 'prod':'Product', 'Activity_x':'pageload_count in7days', 'Activity_y':'click_count in7days'}, inplace=True)"
      ],
      "execution_count": 39,
      "outputs": []
    },
    {
      "cell_type": "code",
      "metadata": {
        "id": "ragqzRmI83bx"
      },
      "source": [
        "final['no_of_visit_in_7days'].replace(np.nan, '0', inplace=True)\n",
        "final['no_of_visit_in_15 days'].replace(np.nan, '0', inplace=True)\n",
        "final['Product'].replace(np.nan, 'Product101', inplace=True)\n",
        "final['OS'].replace(np.nan, 'OS not specified', inplace=True)\n",
        "final['click_count in7days'].replace(np.nan, '0', inplace=True)\n",
        "final['pageload_count in7days'].replace(np.nan, '0', inplace=True)"
      ],
      "execution_count": 44,
      "outputs": []
    },
    {
      "cell_type": "code",
      "metadata": {
        "id": "oSwwJhoq9sam"
      },
      "source": [
        "final.to_csv('rohit.csv', index=False)"
      ],
      "execution_count": 47,
      "outputs": []
    }
  ]
}